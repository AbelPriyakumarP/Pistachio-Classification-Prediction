{
 "cells": [
  {
   "cell_type": "code",
   "execution_count": 50,
   "metadata": {},
   "outputs": [],
   "source": [
    "import numpy as np\n",
    "import torch\n",
    "import torch.nn as nn\n",
    "import torch.optim as optim\n",
    "from torch.utils.data import DataLoader, random_split\n",
    "from torchvision import transforms, datasets\n",
    "import matplotlib.pyplot as plt\n",
    "import torchvision\n",
    "import torch.nn.functional as F\n",
    "import torchvision.models as models\n",
    "import time"
   ]
  },
  {
   "cell_type": "code",
   "execution_count": 31,
   "metadata": {},
   "outputs": [
    {
     "data": {
      "text/plain": [
       "device(type='cpu')"
      ]
     },
     "execution_count": 31,
     "metadata": {},
     "output_type": "execute_result"
    }
   ],
   "source": [
    "device = torch.device('cuda' if torch.cuda.is_available() else 'cpu')\n",
    "device"
   ]
  },
  {
   "cell_type": "code",
   "execution_count": 32,
   "metadata": {},
   "outputs": [],
   "source": [
    "transform = transforms.Compose([\n",
    "    transforms.RandomHorizontalFlip(),\n",
    "    transforms.RandomRotation(10),\n",
    "    transforms.ColorJitter(brightness=0.2, contrast=0.2),\n",
    "    transforms.Resize((224, 224)),\n",
    "    transforms.ToTensor(),\n",
    "    transforms.Normalize(mean=[0.485, 0.456, 0.406], std=[0.229, 0.224, 0.225])\n",
    "])"
   ]
  },
  {
   "cell_type": "code",
   "execution_count": 33,
   "metadata": {},
   "outputs": [],
   "source": [
    "dataset_path = './Pistachio_Image'\n",
    "dataset = datasets.ImageFolder(root = dataset_path, transform=transform)\n"
   ]
  },
  {
   "cell_type": "code",
   "execution_count": 34,
   "metadata": {},
   "outputs": [
    {
     "data": {
      "text/plain": [
       "2148"
      ]
     },
     "execution_count": 34,
     "metadata": {},
     "output_type": "execute_result"
    }
   ],
   "source": [
    "len(dataset)"
   ]
  },
  {
   "cell_type": "code",
   "execution_count": 35,
   "metadata": {},
   "outputs": [
    {
     "data": {
      "text/plain": [
       "1611.0"
      ]
     },
     "execution_count": 35,
     "metadata": {},
     "output_type": "execute_result"
    }
   ],
   "source": [
    "2148*0.75"
   ]
  },
  {
   "cell_type": "code",
   "execution_count": 36,
   "metadata": {},
   "outputs": [
    {
     "data": {
      "text/plain": [
       "['Kirmizi_Pistachio', 'Siirt_Pistachio']"
      ]
     },
     "execution_count": 36,
     "metadata": {},
     "output_type": "execute_result"
    }
   ],
   "source": [
    "class_names = dataset.classes\n",
    "class_names"
   ]
  },
  {
   "cell_type": "code",
   "execution_count": 37,
   "metadata": {},
   "outputs": [
    {
     "data": {
      "text/plain": [
       "2"
      ]
     },
     "execution_count": 37,
     "metadata": {},
     "output_type": "execute_result"
    }
   ],
   "source": [
    "num_classes = len(class_names)\n",
    "num_classes"
   ]
  },
  {
   "cell_type": "code",
   "execution_count": 38,
   "metadata": {},
   "outputs": [],
   "source": [
    "train_size = int(0.75*len(dataset))\n",
    "val_size = len(dataset) - train_size"
   ]
  },
  {
   "cell_type": "code",
   "execution_count": 39,
   "metadata": {},
   "outputs": [],
   "source": [
    "train_dataset, val_dataset = random_split(dataset, [train_size, val_size])"
   ]
  },
  {
   "cell_type": "code",
   "execution_count": 40,
   "metadata": {},
   "outputs": [],
   "source": [
    "train_loader = DataLoader(train_dataset, batch_size = 32, shuffle=True)\n",
    "val_loader = DataLoader(val_dataset, batch_size = 32, shuffle=False)"
   ]
  },
  {
   "cell_type": "code",
   "execution_count": 41,
   "metadata": {},
   "outputs": [
    {
     "name": "stdout",
     "output_type": "stream",
     "text": [
      "torch.Size([32, 3, 224, 224])\n",
      "torch.Size([32])\n"
     ]
    }
   ],
   "source": [
    "for images, labels in train_loader:\n",
    "    print(images.shape)\n",
    "    print(labels.shape)\n",
    "    break"
   ]
  },
  {
   "cell_type": "code",
   "execution_count": 42,
   "metadata": {},
   "outputs": [
    {
     "data": {
      "text/plain": [
       "torch.Size([224, 224, 3])"
      ]
     },
     "execution_count": 42,
     "metadata": {},
     "output_type": "execute_result"
    }
   ],
   "source": [
    "images[0].permute(1,2,0).shape"
   ]
  },
  {
   "cell_type": "code",
   "execution_count": 43,
   "metadata": {},
   "outputs": [
    {
     "name": "stderr",
     "output_type": "stream",
     "text": [
      "Clipping input data to the valid range for imshow with RGB data ([0..1] for floats or [0..255] for integers). Got range [-0.558952..1.82].\n"
     ]
    },
    {
     "data": {
      "image/png": "[encoded data removed]",
      "text/plain": [
       "<Figure size 640x480 with 1 Axes>"
      ]
     },
     "metadata": {},
     "output_type": "display_data"
    }
   ],
   "source": [
    "def imshow(img):\n",
    "    img = img/2+0.5\n",
    "    npimg = img.numpy()\n",
    "    plt.imshow(np.transpose(npimg, (1,2,0)))\n",
    "    plt.show()\n",
    "imshow(torchvision.utils.make_grid(images[:8]))"
   ]
  },
  {
   "cell_type": "code",
   "execution_count": 44,
   "metadata": {},
   "outputs": [
    {
     "data": {
      "text/plain": [
       "tensor([1, 1, 1, 1, 1, 0, 0, 0])"
      ]
     },
     "execution_count": 44,
     "metadata": {},
     "output_type": "execute_result"
    }
   ],
   "source": [
    "labels[:8]"
   ]
  },
  {
   "cell_type": "code",
   "execution_count": 45,
   "metadata": {},
   "outputs": [
    {
     "data": {
      "text/plain": [
       "['Siirt_Pistachio',\n",
       " 'Siirt_Pistachio',\n",
       " 'Siirt_Pistachio',\n",
       " 'Siirt_Pistachio',\n",
       " 'Siirt_Pistachio',\n",
       " 'Kirmizi_Pistachio',\n",
       " 'Kirmizi_Pistachio',\n",
       " 'Kirmizi_Pistachio']"
      ]
     },
     "execution_count": 45,
     "metadata": {},
     "output_type": "execute_result"
    }
   ],
   "source": [
    "[dataset.classes[i] for i in labels[:8]]"
   ]
  },
  {
   "cell_type": "code",
   "execution_count": 47,
   "metadata": {},
   "outputs": [],
   "source": [
    "class PistachioCNN(nn.Module):\n",
    "    def __init__(self, num_classes):\n",
    "        super().__init__()\n",
    "        self.network = nn.Sequential(\n",
    "            nn.Conv2d(in_channels=3, out_channels=16, kernel_size=3, stride=1, padding=1),\n",
    "            nn.ReLU(),\n",
    "            nn.MaxPool2d(kernel_size = 2, stride=2 ,padding=0),\n",
    "            nn.Conv2d(in_channels=16, out_channels=32, kernel_size=3, stride=1, padding=1),\n",
    "            nn.ReLU(),\n",
    "            nn.MaxPool2d(kernel_size=2 ,stride=2, padding=0),\n",
    "            nn.Conv2d(in_channels=32, out_channels=64, kernel_size=3, stride=1, padding=1),\n",
    "            nn.ReLU(),\n",
    "            nn.MaxPool2d(kernel_size=2, stride=2, padding=0),\n",
    "            nn.Flatten(),\n",
    "            nn.Linear(64*28*28, 512),\n",
    "            nn.ReLU(),\n",
    "            nn.Linear(512, num_classes)\n",
    "        )\n",
    "\n",
    "    def forward(self, x):\n",
    "        return self.network(x)"
   ]
  },
  {
   "cell_type": "code",
   "execution_count": 49,
   "metadata": {},
   "outputs": [
    {
     "data": {
      "text/plain": [
       "1611"
      ]
     },
     "execution_count": 49,
     "metadata": {},
     "output_type": "execute_result"
    }
   ],
   "source": [
    "len(train_loader.dataset)"
   ]
  },
  {
   "cell_type": "code",
   "execution_count": 55,
   "metadata": {},
   "outputs": [],
   "source": [
    "def train_model(model, criterion, optimizer , epochs = 10):\n",
    "    start = time.time()\n",
    "\n",
    "    for epoch in range(epochs):\n",
    "        model.train()\n",
    "        running_loss = 0.0\n",
    "\n",
    "        for batch_num,(images, labels) in enumerate(train_loader):\n",
    "            images = images.to(device)\n",
    "            labels = labels.to(device)\n",
    "            optimizer.zero_grad()\n",
    "            outputs = model(images)\n",
    "            loss = criterion(outputs, labels)\n",
    "            loss.backward()\n",
    "            optimizer.step()\n",
    "\n",
    "            if (batch_num+1)%10 ==0:\n",
    "                print(f\"Batch: {batch_num+1},Epoch: {epoch+1} ,loss: {loss.item():.4f}\")\n",
    "\n",
    "            running_loss += loss.item() * images.size(0)\n",
    "\n",
    "        epoch_loss = running_loss / len(train_loader.dataset)\n",
    "        print(f'Epoch\" {epoch+1}/{epochs}, Epoch Loss: {epoch_loss:.4f}')\n",
    "\n",
    "        model.eval()\n",
    "        correct = 0\n",
    "        total = 0\n",
    "        all_labels = []\n",
    "        all_predictions = []\n",
    "\n",
    "        with torch.no_grad():\n",
    "            for images, labels in val_loader:\n",
    "                images = images.to(device)\n",
    "                labels = labels.to(device)\n",
    "                outputs = model(images)\n",
    "                _, predicted = torch.max(outputs.data, 1)\n",
    "                total += labels.size(0)\n",
    "                correct += (predicted == labels).sum().item()\n",
    "                all_labels.extend(labels.cpu().numpy())\n",
    "                all_predictions.extend(predicted.cpu().numpy())\n",
    "                \n",
    "            print(f\"*** Validation Accuracy: {100 * correct / total:.2f}% ***\")\n",
    "\n",
    "    end  = time.time()\n",
    "    print(f\"Execution Time: {end - start} seconds\")\n",
    "\n",
    "    return all_labels, all_predictions\n",
    "    "
   ]
  },
  {
   "cell_type": "code",
   "execution_count": 67,
   "metadata": {},
   "outputs": [
    {
     "name": "stdout",
     "output_type": "stream",
     "text": [
      "Batch: 10,Epoch: 1 ,loss: 0.6636\n",
      "Batch: 20,Epoch: 1 ,loss: 0.5222\n",
      "Batch: 30,Epoch: 1 ,loss: 0.4184\n",
      "Batch: 40,Epoch: 1 ,loss: 0.4533\n",
      "Batch: 50,Epoch: 1 ,loss: 0.3192\n",
      "Epoch\" 1/10, Epoch Loss: 0.8198\n",
      "*** Validation Accuracy: 78.96% ***\n",
      "Batch: 10,Epoch: 2 ,loss: 0.3985\n",
      "Batch: 20,Epoch: 2 ,loss: 0.1929\n",
      "Batch: 30,Epoch: 2 ,loss: 0.3530\n",
      "Batch: 40,Epoch: 2 ,loss: 0.1863\n",
      "Batch: 50,Epoch: 2 ,loss: 0.4108\n",
      "Epoch\" 2/10, Epoch Loss: 0.3783\n",
      "*** Validation Accuracy: 82.50% ***\n",
      "Batch: 10,Epoch: 3 ,loss: 0.3153\n",
      "Batch: 20,Epoch: 3 ,loss: 0.3610\n",
      "Batch: 30,Epoch: 3 ,loss: 0.4252\n",
      "Batch: 40,Epoch: 3 ,loss: 0.3102\n",
      "Batch: 50,Epoch: 3 ,loss: 0.5138\n",
      "Epoch\" 3/10, Epoch Loss: 0.3523\n",
      "*** Validation Accuracy: 84.17% ***\n",
      "Batch: 10,Epoch: 4 ,loss: 0.4683\n",
      "Batch: 20,Epoch: 4 ,loss: 0.4221\n",
      "Batch: 30,Epoch: 4 ,loss: 0.4534\n",
      "Batch: 40,Epoch: 4 ,loss: 0.2312\n",
      "Batch: 50,Epoch: 4 ,loss: 0.4206\n",
      "Epoch\" 4/10, Epoch Loss: 0.3425\n",
      "*** Validation Accuracy: 84.73% ***\n",
      "Batch: 10,Epoch: 5 ,loss: 0.2375\n",
      "Batch: 20,Epoch: 5 ,loss: 0.4710\n",
      "Batch: 30,Epoch: 5 ,loss: 0.3149\n",
      "Batch: 40,Epoch: 5 ,loss: 0.3120\n",
      "Batch: 50,Epoch: 5 ,loss: 0.2067\n",
      "Epoch\" 5/10, Epoch Loss: 0.3246\n",
      "*** Validation Accuracy: 86.03% ***\n",
      "Batch: 10,Epoch: 6 ,loss: 0.2515\n",
      "Batch: 20,Epoch: 6 ,loss: 0.3781\n",
      "Batch: 30,Epoch: 6 ,loss: 0.2042\n",
      "Batch: 40,Epoch: 6 ,loss: 0.4773\n",
      "Batch: 50,Epoch: 6 ,loss: 0.2594\n",
      "Epoch\" 6/10, Epoch Loss: 0.3171\n",
      "*** Validation Accuracy: 86.41% ***\n",
      "Batch: 10,Epoch: 7 ,loss: 0.3161\n",
      "Batch: 20,Epoch: 7 ,loss: 0.1500\n",
      "Batch: 30,Epoch: 7 ,loss: 0.3771\n",
      "Batch: 40,Epoch: 7 ,loss: 0.2816\n",
      "Batch: 50,Epoch: 7 ,loss: 0.1624\n",
      "Epoch\" 7/10, Epoch Loss: 0.2930\n",
      "*** Validation Accuracy: 87.90% ***\n",
      "Batch: 10,Epoch: 8 ,loss: 0.3590\n",
      "Batch: 20,Epoch: 8 ,loss: 0.4592\n",
      "Batch: 30,Epoch: 8 ,loss: 0.2923\n",
      "Batch: 40,Epoch: 8 ,loss: 0.2237\n",
      "Batch: 50,Epoch: 8 ,loss: 0.2959\n",
      "Epoch\" 8/10, Epoch Loss: 0.2622\n",
      "*** Validation Accuracy: 86.41% ***\n",
      "Batch: 10,Epoch: 9 ,loss: 0.3408\n",
      "Batch: 20,Epoch: 9 ,loss: 0.4785\n",
      "Batch: 30,Epoch: 9 ,loss: 0.4676\n",
      "Batch: 40,Epoch: 9 ,loss: 0.3386\n",
      "Batch: 50,Epoch: 9 ,loss: 0.1379\n",
      "Epoch\" 9/10, Epoch Loss: 0.2541\n",
      "*** Validation Accuracy: 91.43% ***\n",
      "Batch: 10,Epoch: 10 ,loss: 0.1966\n",
      "Batch: 20,Epoch: 10 ,loss: 0.4556\n",
      "Batch: 30,Epoch: 10 ,loss: 0.3876\n",
      "Batch: 40,Epoch: 10 ,loss: 0.2079\n",
      "Batch: 50,Epoch: 10 ,loss: 0.1186\n",
      "Epoch\" 10/10, Epoch Loss: 0.2225\n",
      "*** Validation Accuracy: 89.94% ***\n",
      "Execution Time: 540.5217528343201 seconds\n"
     ]
    }
   ],
   "source": [
    "model = PistachioCNN(num_classes = num_classes).to(device)\n",
    "criterion = nn.CrossEntropyLoss()\n",
    "optimizer = optim.Adam(model.parameters(), lr = 0.001)\n",
    "\n",
    "all_labels , all_predictions = train_model(model, criterion, optimizer, epochs=10)"
   ]
  },
  {
   "cell_type": "code",
   "execution_count": 64,
   "metadata": {},
   "outputs": [
    {
     "name": "stdout",
     "output_type": "stream",
     "text": [
      "              precision    recall  f1-score   support\n",
      "\n",
      "           0       0.93      0.90      0.92       310\n",
      "           1       0.87      0.91      0.89       227\n",
      "\n",
      "    accuracy                           0.91       537\n",
      "   macro avg       0.90      0.91      0.90       537\n",
      "weighted avg       0.91      0.91      0.91       537\n",
      "\n"
     ]
    }
   ],
   "source": [
    "from sklearn.metrics import classification_report\n",
    "\n",
    "report = classification_report(all_labels, all_predictions)\n",
    "print(report)"
   ]
  },
  {
   "cell_type": "code",
   "execution_count": 66,
   "metadata": {},
   "outputs": [
    {
     "data": {
      "image/png": "[encoded data removed]",
      "text/plain": [
       "<Figure size 640x480 with 2 Axes>"
      ]
     },
     "metadata": {},
     "output_type": "display_data"
    }
   ],
   "source": [
    "from sklearn.metrics import confusion_matrix, ConfusionMatrixDisplay\n",
    "\n",
    "conf_matrix = confusion_matrix(all_labels, all_predictions, labels=np.arange(num_classes))\n",
    "disp = ConfusionMatrixDisplay(confusion_matrix=conf_matrix, display_labels=class_names)\n",
    "disp.plot(cmap=plt.cm.Blues, xticks_rotation=45)\n",
    "plt.title(\"Confusion Matrix for Vehicle Damage Classification\")\n",
    "plt.show()"
   ]
  },
  {
   "cell_type": "code",
   "execution_count": 63,
   "metadata": {},
   "outputs": [],
   "source": [
    "torch.save(model.state_dict(), 'saved_model.pth')"
   ]
  }
 ],
 "metadata": {
  "kernelspec": {
   "display_name": "Python 3",
   "language": "python",
   "name": "python3"
  },
  "language_info": {
   "codemirror_mode": {
    "name": "ipython",
    "version": 3
   },
   "file_extension": ".py",
   "mimetype": "text/x-python",
   "name": "python",
   "nbconvert_exporter": "python",
   "pygments_lexer": "ipython3",
   "version": "3.13.0"
  }
 },
 "nbformat": 4,
 "nbformat_minor": 2
}
